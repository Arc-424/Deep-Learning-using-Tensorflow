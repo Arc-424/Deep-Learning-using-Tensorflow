{
 "cells": [
  {
   "cell_type": "markdown",
   "metadata": {},
   "source": [
    "## Credit Card Fraud Detection using CNN"
   ]
  },
  {
   "cell_type": "markdown",
   "metadata": {},
   "source": [
    "Watch Full Video Here: https://youtu.be/XFnLN84Fz24"
   ]
  },
  {
   "cell_type": "code",
   "execution_count": null,
   "metadata": {},
   "outputs": [],
   "source": [
    "#!pip install tensorflow-gpu==2.0.0-rc0\n",
    "# Keep your eyes for update: https://www.tensorflow.org/"
   ]
  },
  {
   "cell_type": "code",
   "execution_count": 1,
   "metadata": {},
   "outputs": [
    {
     "name": "stdout",
     "output_type": "stream",
     "text": [
      "2.0.0-rc0\n"
     ]
    }
   ],
   "source": [
    "import tensorflow as tf\n",
    "from tensorflow import keras\n",
    "from tensorflow.keras import Sequential\n",
    "from tensorflow.keras.layers import Flatten, Dense, Dropout, BatchNormalization\n",
    "from tensorflow.keras.layers import Conv1D, MaxPool1D\n",
    "from tensorflow.keras.optimizers import Adam\n",
    "print(tf.__version__)"
   ]
  },
  {
   "cell_type": "code",
   "execution_count": 2,
   "metadata": {},
   "outputs": [],
   "source": [
    "import pandas as pd\n",
    "import numpy as np\n",
    "import  seaborn as sns\n",
    "import matplotlib.pyplot as plt\n",
    "from sklearn.model_selection import train_test_split\n",
    "from sklearn.preprocessing import StandardScaler"
   ]
  },
  {
   "cell_type": "code",
   "execution_count": 3,
   "metadata": {},
   "outputs": [
    {
     "data": {
      "text/html": [
       "<div>\n",
       "<style scoped>\n",
       "    .dataframe tbody tr th:only-of-type {\n",
       "        vertical-align: middle;\n",
       "    }\n",
       "\n",
       "    .dataframe tbody tr th {\n",
       "        vertical-align: top;\n",
       "    }\n",
       "\n",
       "    .dataframe thead th {\n",
       "        text-align: right;\n",
       "    }\n",
       "</style>\n",
       "<table border=\"1\" class=\"dataframe\">\n",
       "  <thead>\n",
       "    <tr style=\"text-align: right;\">\n",
       "      <th></th>\n",
       "      <th>Time</th>\n",
       "      <th>V1</th>\n",
       "      <th>V2</th>\n",
       "      <th>V3</th>\n",
       "      <th>V4</th>\n",
       "      <th>V5</th>\n",
       "      <th>V6</th>\n",
       "      <th>V7</th>\n",
       "      <th>V8</th>\n",
       "      <th>V9</th>\n",
       "      <th>...</th>\n",
       "      <th>V21</th>\n",
       "      <th>V22</th>\n",
       "      <th>V23</th>\n",
       "      <th>V24</th>\n",
       "      <th>V25</th>\n",
       "      <th>V26</th>\n",
       "      <th>V27</th>\n",
       "      <th>V28</th>\n",
       "      <th>Amount</th>\n",
       "      <th>Class</th>\n",
       "    </tr>\n",
       "  </thead>\n",
       "  <tbody>\n",
       "    <tr>\n",
       "      <td>0</td>\n",
       "      <td>0.0</td>\n",
       "      <td>-1.359807</td>\n",
       "      <td>-0.072781</td>\n",
       "      <td>2.536347</td>\n",
       "      <td>1.378155</td>\n",
       "      <td>-0.338321</td>\n",
       "      <td>0.462388</td>\n",
       "      <td>0.239599</td>\n",
       "      <td>0.098698</td>\n",
       "      <td>0.363787</td>\n",
       "      <td>...</td>\n",
       "      <td>-0.018307</td>\n",
       "      <td>0.277838</td>\n",
       "      <td>-0.110474</td>\n",
       "      <td>0.066928</td>\n",
       "      <td>0.128539</td>\n",
       "      <td>-0.189115</td>\n",
       "      <td>0.133558</td>\n",
       "      <td>-0.021053</td>\n",
       "      <td>149.62</td>\n",
       "      <td>0</td>\n",
       "    </tr>\n",
       "    <tr>\n",
       "      <td>1</td>\n",
       "      <td>0.0</td>\n",
       "      <td>1.191857</td>\n",
       "      <td>0.266151</td>\n",
       "      <td>0.166480</td>\n",
       "      <td>0.448154</td>\n",
       "      <td>0.060018</td>\n",
       "      <td>-0.082361</td>\n",
       "      <td>-0.078803</td>\n",
       "      <td>0.085102</td>\n",
       "      <td>-0.255425</td>\n",
       "      <td>...</td>\n",
       "      <td>-0.225775</td>\n",
       "      <td>-0.638672</td>\n",
       "      <td>0.101288</td>\n",
       "      <td>-0.339846</td>\n",
       "      <td>0.167170</td>\n",
       "      <td>0.125895</td>\n",
       "      <td>-0.008983</td>\n",
       "      <td>0.014724</td>\n",
       "      <td>2.69</td>\n",
       "      <td>0</td>\n",
       "    </tr>\n",
       "    <tr>\n",
       "      <td>2</td>\n",
       "      <td>1.0</td>\n",
       "      <td>-1.358354</td>\n",
       "      <td>-1.340163</td>\n",
       "      <td>1.773209</td>\n",
       "      <td>0.379780</td>\n",
       "      <td>-0.503198</td>\n",
       "      <td>1.800499</td>\n",
       "      <td>0.791461</td>\n",
       "      <td>0.247676</td>\n",
       "      <td>-1.514654</td>\n",
       "      <td>...</td>\n",
       "      <td>0.247998</td>\n",
       "      <td>0.771679</td>\n",
       "      <td>0.909412</td>\n",
       "      <td>-0.689281</td>\n",
       "      <td>-0.327642</td>\n",
       "      <td>-0.139097</td>\n",
       "      <td>-0.055353</td>\n",
       "      <td>-0.059752</td>\n",
       "      <td>378.66</td>\n",
       "      <td>0</td>\n",
       "    </tr>\n",
       "    <tr>\n",
       "      <td>3</td>\n",
       "      <td>1.0</td>\n",
       "      <td>-0.966272</td>\n",
       "      <td>-0.185226</td>\n",
       "      <td>1.792993</td>\n",
       "      <td>-0.863291</td>\n",
       "      <td>-0.010309</td>\n",
       "      <td>1.247203</td>\n",
       "      <td>0.237609</td>\n",
       "      <td>0.377436</td>\n",
       "      <td>-1.387024</td>\n",
       "      <td>...</td>\n",
       "      <td>-0.108300</td>\n",
       "      <td>0.005274</td>\n",
       "      <td>-0.190321</td>\n",
       "      <td>-1.175575</td>\n",
       "      <td>0.647376</td>\n",
       "      <td>-0.221929</td>\n",
       "      <td>0.062723</td>\n",
       "      <td>0.061458</td>\n",
       "      <td>123.50</td>\n",
       "      <td>0</td>\n",
       "    </tr>\n",
       "    <tr>\n",
       "      <td>4</td>\n",
       "      <td>2.0</td>\n",
       "      <td>-1.158233</td>\n",
       "      <td>0.877737</td>\n",
       "      <td>1.548718</td>\n",
       "      <td>0.403034</td>\n",
       "      <td>-0.407193</td>\n",
       "      <td>0.095921</td>\n",
       "      <td>0.592941</td>\n",
       "      <td>-0.270533</td>\n",
       "      <td>0.817739</td>\n",
       "      <td>...</td>\n",
       "      <td>-0.009431</td>\n",
       "      <td>0.798278</td>\n",
       "      <td>-0.137458</td>\n",
       "      <td>0.141267</td>\n",
       "      <td>-0.206010</td>\n",
       "      <td>0.502292</td>\n",
       "      <td>0.219422</td>\n",
       "      <td>0.215153</td>\n",
       "      <td>69.99</td>\n",
       "      <td>0</td>\n",
       "    </tr>\n",
       "  </tbody>\n",
       "</table>\n",
       "<p>5 rows × 31 columns</p>\n",
       "</div>"
      ],
      "text/plain": [
       "   Time        V1        V2        V3        V4        V5        V6        V7  \\\n",
       "0   0.0 -1.359807 -0.072781  2.536347  1.378155 -0.338321  0.462388  0.239599   \n",
       "1   0.0  1.191857  0.266151  0.166480  0.448154  0.060018 -0.082361 -0.078803   \n",
       "2   1.0 -1.358354 -1.340163  1.773209  0.379780 -0.503198  1.800499  0.791461   \n",
       "3   1.0 -0.966272 -0.185226  1.792993 -0.863291 -0.010309  1.247203  0.237609   \n",
       "4   2.0 -1.158233  0.877737  1.548718  0.403034 -0.407193  0.095921  0.592941   \n",
       "\n",
       "         V8        V9  ...       V21       V22       V23       V24       V25  \\\n",
       "0  0.098698  0.363787  ... -0.018307  0.277838 -0.110474  0.066928  0.128539   \n",
       "1  0.085102 -0.255425  ... -0.225775 -0.638672  0.101288 -0.339846  0.167170   \n",
       "2  0.247676 -1.514654  ...  0.247998  0.771679  0.909412 -0.689281 -0.327642   \n",
       "3  0.377436 -1.387024  ... -0.108300  0.005274 -0.190321 -1.175575  0.647376   \n",
       "4 -0.270533  0.817739  ... -0.009431  0.798278 -0.137458  0.141267 -0.206010   \n",
       "\n",
       "        V26       V27       V28  Amount  Class  \n",
       "0 -0.189115  0.133558 -0.021053  149.62      0  \n",
       "1  0.125895 -0.008983  0.014724    2.69      0  \n",
       "2 -0.139097 -0.055353 -0.059752  378.66      0  \n",
       "3 -0.221929  0.062723  0.061458  123.50      0  \n",
       "4  0.502292  0.219422  0.215153   69.99      0  \n",
       "\n",
       "[5 rows x 31 columns]"
      ]
     },
     "execution_count": 3,
     "metadata": {},
     "output_type": "execute_result"
    }
   ],
   "source": [
    "data = pd.read_csv('creditcard.csv')\n",
    "data.head()"
   ]
  },
  {
   "cell_type": "code",
   "execution_count": 4,
   "metadata": {},
   "outputs": [
    {
     "data": {
      "text/plain": [
       "(284807, 31)"
      ]
     },
     "execution_count": 4,
     "metadata": {},
     "output_type": "execute_result"
    }
   ],
   "source": [
    "data.shape"
   ]
  },
  {
   "cell_type": "code",
   "execution_count": 5,
   "metadata": {},
   "outputs": [
    {
     "data": {
      "text/plain": [
       "Time      0\n",
       "V1        0\n",
       "V2        0\n",
       "V3        0\n",
       "V4        0\n",
       "V5        0\n",
       "V6        0\n",
       "V7        0\n",
       "V8        0\n",
       "V9        0\n",
       "V10       0\n",
       "V11       0\n",
       "V12       0\n",
       "V13       0\n",
       "V14       0\n",
       "V15       0\n",
       "V16       0\n",
       "V17       0\n",
       "V18       0\n",
       "V19       0\n",
       "V20       0\n",
       "V21       0\n",
       "V22       0\n",
       "V23       0\n",
       "V24       0\n",
       "V25       0\n",
       "V26       0\n",
       "V27       0\n",
       "V28       0\n",
       "Amount    0\n",
       "Class     0\n",
       "dtype: int64"
      ]
     },
     "execution_count": 5,
     "metadata": {},
     "output_type": "execute_result"
    }
   ],
   "source": [
    "data.isnull().sum()"
   ]
  },
  {
   "cell_type": "code",
   "execution_count": 6,
   "metadata": {
    "scrolled": true
   },
   "outputs": [
    {
     "name": "stdout",
     "output_type": "stream",
     "text": [
      "<class 'pandas.core.frame.DataFrame'>\n",
      "RangeIndex: 284807 entries, 0 to 284806\n",
      "Data columns (total 31 columns):\n",
      "Time      284807 non-null float64\n",
      "V1        284807 non-null float64\n",
      "V2        284807 non-null float64\n",
      "V3        284807 non-null float64\n",
      "V4        284807 non-null float64\n",
      "V5        284807 non-null float64\n",
      "V6        284807 non-null float64\n",
      "V7        284807 non-null float64\n",
      "V8        284807 non-null float64\n",
      "V9        284807 non-null float64\n",
      "V10       284807 non-null float64\n",
      "V11       284807 non-null float64\n",
      "V12       284807 non-null float64\n",
      "V13       284807 non-null float64\n",
      "V14       284807 non-null float64\n",
      "V15       284807 non-null float64\n",
      "V16       284807 non-null float64\n",
      "V17       284807 non-null float64\n",
      "V18       284807 non-null float64\n",
      "V19       284807 non-null float64\n",
      "V20       284807 non-null float64\n",
      "V21       284807 non-null float64\n",
      "V22       284807 non-null float64\n",
      "V23       284807 non-null float64\n",
      "V24       284807 non-null float64\n",
      "V25       284807 non-null float64\n",
      "V26       284807 non-null float64\n",
      "V27       284807 non-null float64\n",
      "V28       284807 non-null float64\n",
      "Amount    284807 non-null float64\n",
      "Class     284807 non-null int64\n",
      "dtypes: float64(30), int64(1)\n",
      "memory usage: 67.4 MB\n"
     ]
    }
   ],
   "source": [
    "data.info()"
   ]
  },
  {
   "cell_type": "code",
   "execution_count": 7,
   "metadata": {},
   "outputs": [
    {
     "data": {
      "text/plain": [
       "0    284315\n",
       "1       492\n",
       "Name: Class, dtype: int64"
      ]
     },
     "execution_count": 7,
     "metadata": {},
     "output_type": "execute_result"
    }
   ],
   "source": [
    "data['Class'].value_counts()"
   ]
  },
  {
   "cell_type": "markdown",
   "metadata": {},
   "source": [
    "### Balance Dataset "
   ]
  },
  {
   "cell_type": "code",
   "execution_count": 8,
   "metadata": {},
   "outputs": [],
   "source": [
    "non_fraud = data[data['Class']==0]\n",
    "fraud = data[data['Class']==1]"
   ]
  },
  {
   "cell_type": "code",
   "execution_count": 9,
   "metadata": {},
   "outputs": [
    {
     "data": {
      "text/plain": [
       "((284315, 31), (492, 31))"
      ]
     },
     "execution_count": 9,
     "metadata": {},
     "output_type": "execute_result"
    }
   ],
   "source": [
    "non_fraud.shape, fraud.shape"
   ]
  },
  {
   "cell_type": "code",
   "execution_count": 10,
   "metadata": {},
   "outputs": [
    {
     "data": {
      "text/plain": [
       "(492, 31)"
      ]
     },
     "execution_count": 10,
     "metadata": {},
     "output_type": "execute_result"
    }
   ],
   "source": [
    "non_fraud = non_fraud.sample(fraud.shape[0])\n",
    "non_fraud.shape"
   ]
  },
  {
   "cell_type": "code",
   "execution_count": 11,
   "metadata": {},
   "outputs": [
    {
     "data": {
      "text/html": [
       "<div>\n",
       "<style scoped>\n",
       "    .dataframe tbody tr th:only-of-type {\n",
       "        vertical-align: middle;\n",
       "    }\n",
       "\n",
       "    .dataframe tbody tr th {\n",
       "        vertical-align: top;\n",
       "    }\n",
       "\n",
       "    .dataframe thead th {\n",
       "        text-align: right;\n",
       "    }\n",
       "</style>\n",
       "<table border=\"1\" class=\"dataframe\">\n",
       "  <thead>\n",
       "    <tr style=\"text-align: right;\">\n",
       "      <th></th>\n",
       "      <th>Time</th>\n",
       "      <th>V1</th>\n",
       "      <th>V2</th>\n",
       "      <th>V3</th>\n",
       "      <th>V4</th>\n",
       "      <th>V5</th>\n",
       "      <th>V6</th>\n",
       "      <th>V7</th>\n",
       "      <th>V8</th>\n",
       "      <th>V9</th>\n",
       "      <th>...</th>\n",
       "      <th>V21</th>\n",
       "      <th>V22</th>\n",
       "      <th>V23</th>\n",
       "      <th>V24</th>\n",
       "      <th>V25</th>\n",
       "      <th>V26</th>\n",
       "      <th>V27</th>\n",
       "      <th>V28</th>\n",
       "      <th>Amount</th>\n",
       "      <th>Class</th>\n",
       "    </tr>\n",
       "  </thead>\n",
       "  <tbody>\n",
       "    <tr>\n",
       "      <td>0</td>\n",
       "      <td>406.0</td>\n",
       "      <td>-2.312227</td>\n",
       "      <td>1.951992</td>\n",
       "      <td>-1.609851</td>\n",
       "      <td>3.997906</td>\n",
       "      <td>-0.522188</td>\n",
       "      <td>-1.426545</td>\n",
       "      <td>-2.537387</td>\n",
       "      <td>1.391657</td>\n",
       "      <td>-2.770089</td>\n",
       "      <td>...</td>\n",
       "      <td>0.517232</td>\n",
       "      <td>-0.035049</td>\n",
       "      <td>-0.465211</td>\n",
       "      <td>0.320198</td>\n",
       "      <td>0.044519</td>\n",
       "      <td>0.177840</td>\n",
       "      <td>0.261145</td>\n",
       "      <td>-0.143276</td>\n",
       "      <td>0.00</td>\n",
       "      <td>1</td>\n",
       "    </tr>\n",
       "    <tr>\n",
       "      <td>1</td>\n",
       "      <td>472.0</td>\n",
       "      <td>-3.043541</td>\n",
       "      <td>-3.157307</td>\n",
       "      <td>1.088463</td>\n",
       "      <td>2.288644</td>\n",
       "      <td>1.359805</td>\n",
       "      <td>-1.064823</td>\n",
       "      <td>0.325574</td>\n",
       "      <td>-0.067794</td>\n",
       "      <td>-0.270953</td>\n",
       "      <td>...</td>\n",
       "      <td>0.661696</td>\n",
       "      <td>0.435477</td>\n",
       "      <td>1.375966</td>\n",
       "      <td>-0.293803</td>\n",
       "      <td>0.279798</td>\n",
       "      <td>-0.145362</td>\n",
       "      <td>-0.252773</td>\n",
       "      <td>0.035764</td>\n",
       "      <td>529.00</td>\n",
       "      <td>1</td>\n",
       "    </tr>\n",
       "    <tr>\n",
       "      <td>2</td>\n",
       "      <td>4462.0</td>\n",
       "      <td>-2.303350</td>\n",
       "      <td>1.759247</td>\n",
       "      <td>-0.359745</td>\n",
       "      <td>2.330243</td>\n",
       "      <td>-0.821628</td>\n",
       "      <td>-0.075788</td>\n",
       "      <td>0.562320</td>\n",
       "      <td>-0.399147</td>\n",
       "      <td>-0.238253</td>\n",
       "      <td>...</td>\n",
       "      <td>-0.294166</td>\n",
       "      <td>-0.932391</td>\n",
       "      <td>0.172726</td>\n",
       "      <td>-0.087330</td>\n",
       "      <td>-0.156114</td>\n",
       "      <td>-0.542628</td>\n",
       "      <td>0.039566</td>\n",
       "      <td>-0.153029</td>\n",
       "      <td>239.93</td>\n",
       "      <td>1</td>\n",
       "    </tr>\n",
       "    <tr>\n",
       "      <td>3</td>\n",
       "      <td>6986.0</td>\n",
       "      <td>-4.397974</td>\n",
       "      <td>1.358367</td>\n",
       "      <td>-2.592844</td>\n",
       "      <td>2.679787</td>\n",
       "      <td>-1.128131</td>\n",
       "      <td>-1.706536</td>\n",
       "      <td>-3.496197</td>\n",
       "      <td>-0.248778</td>\n",
       "      <td>-0.247768</td>\n",
       "      <td>...</td>\n",
       "      <td>0.573574</td>\n",
       "      <td>0.176968</td>\n",
       "      <td>-0.436207</td>\n",
       "      <td>-0.053502</td>\n",
       "      <td>0.252405</td>\n",
       "      <td>-0.657488</td>\n",
       "      <td>-0.827136</td>\n",
       "      <td>0.849573</td>\n",
       "      <td>59.00</td>\n",
       "      <td>1</td>\n",
       "    </tr>\n",
       "    <tr>\n",
       "      <td>4</td>\n",
       "      <td>7519.0</td>\n",
       "      <td>1.234235</td>\n",
       "      <td>3.019740</td>\n",
       "      <td>-4.304597</td>\n",
       "      <td>4.732795</td>\n",
       "      <td>3.624201</td>\n",
       "      <td>-1.357746</td>\n",
       "      <td>1.713445</td>\n",
       "      <td>-0.496358</td>\n",
       "      <td>-1.282858</td>\n",
       "      <td>...</td>\n",
       "      <td>-0.379068</td>\n",
       "      <td>-0.704181</td>\n",
       "      <td>-0.656805</td>\n",
       "      <td>-1.632653</td>\n",
       "      <td>1.488901</td>\n",
       "      <td>0.566797</td>\n",
       "      <td>-0.010016</td>\n",
       "      <td>0.146793</td>\n",
       "      <td>1.00</td>\n",
       "      <td>1</td>\n",
       "    </tr>\n",
       "    <tr>\n",
       "      <td>...</td>\n",
       "      <td>...</td>\n",
       "      <td>...</td>\n",
       "      <td>...</td>\n",
       "      <td>...</td>\n",
       "      <td>...</td>\n",
       "      <td>...</td>\n",
       "      <td>...</td>\n",
       "      <td>...</td>\n",
       "      <td>...</td>\n",
       "      <td>...</td>\n",
       "      <td>...</td>\n",
       "      <td>...</td>\n",
       "      <td>...</td>\n",
       "      <td>...</td>\n",
       "      <td>...</td>\n",
       "      <td>...</td>\n",
       "      <td>...</td>\n",
       "      <td>...</td>\n",
       "      <td>...</td>\n",
       "      <td>...</td>\n",
       "      <td>...</td>\n",
       "    </tr>\n",
       "    <tr>\n",
       "      <td>979</td>\n",
       "      <td>39044.0</td>\n",
       "      <td>-2.381857</td>\n",
       "      <td>-3.469360</td>\n",
       "      <td>1.596375</td>\n",
       "      <td>-1.389869</td>\n",
       "      <td>-3.742196</td>\n",
       "      <td>0.734609</td>\n",
       "      <td>2.116088</td>\n",
       "      <td>-0.140548</td>\n",
       "      <td>-1.941889</td>\n",
       "      <td>...</td>\n",
       "      <td>0.283461</td>\n",
       "      <td>-0.378704</td>\n",
       "      <td>2.043965</td>\n",
       "      <td>0.575638</td>\n",
       "      <td>0.633883</td>\n",
       "      <td>-0.375332</td>\n",
       "      <td>-0.235624</td>\n",
       "      <td>0.149424</td>\n",
       "      <td>911.01</td>\n",
       "      <td>0</td>\n",
       "    </tr>\n",
       "    <tr>\n",
       "      <td>980</td>\n",
       "      <td>69294.0</td>\n",
       "      <td>-0.315911</td>\n",
       "      <td>-0.436308</td>\n",
       "      <td>1.547625</td>\n",
       "      <td>-1.348006</td>\n",
       "      <td>-0.593091</td>\n",
       "      <td>1.753575</td>\n",
       "      <td>-0.913081</td>\n",
       "      <td>0.603919</td>\n",
       "      <td>-2.729027</td>\n",
       "      <td>...</td>\n",
       "      <td>0.041413</td>\n",
       "      <td>0.584011</td>\n",
       "      <td>-0.001397</td>\n",
       "      <td>-1.057448</td>\n",
       "      <td>-0.610619</td>\n",
       "      <td>0.128048</td>\n",
       "      <td>0.096686</td>\n",
       "      <td>0.079754</td>\n",
       "      <td>25.00</td>\n",
       "      <td>0</td>\n",
       "    </tr>\n",
       "    <tr>\n",
       "      <td>981</td>\n",
       "      <td>50586.0</td>\n",
       "      <td>-1.584756</td>\n",
       "      <td>0.338998</td>\n",
       "      <td>1.908507</td>\n",
       "      <td>-1.540447</td>\n",
       "      <td>-0.354694</td>\n",
       "      <td>2.106107</td>\n",
       "      <td>-1.032429</td>\n",
       "      <td>1.404723</td>\n",
       "      <td>-0.947873</td>\n",
       "      <td>...</td>\n",
       "      <td>-0.265977</td>\n",
       "      <td>-0.125057</td>\n",
       "      <td>-0.054417</td>\n",
       "      <td>-1.391604</td>\n",
       "      <td>-0.088758</td>\n",
       "      <td>0.498324</td>\n",
       "      <td>0.343852</td>\n",
       "      <td>0.089431</td>\n",
       "      <td>8.00</td>\n",
       "      <td>0</td>\n",
       "    </tr>\n",
       "    <tr>\n",
       "      <td>982</td>\n",
       "      <td>69027.0</td>\n",
       "      <td>-0.371424</td>\n",
       "      <td>0.918016</td>\n",
       "      <td>0.947494</td>\n",
       "      <td>-0.401950</td>\n",
       "      <td>0.794136</td>\n",
       "      <td>0.347823</td>\n",
       "      <td>0.554399</td>\n",
       "      <td>0.182587</td>\n",
       "      <td>-0.251831</td>\n",
       "      <td>...</td>\n",
       "      <td>-0.295070</td>\n",
       "      <td>-0.765719</td>\n",
       "      <td>-0.160695</td>\n",
       "      <td>-1.356279</td>\n",
       "      <td>-0.090680</td>\n",
       "      <td>0.188847</td>\n",
       "      <td>0.277541</td>\n",
       "      <td>0.103052</td>\n",
       "      <td>1.29</td>\n",
       "      <td>0</td>\n",
       "    </tr>\n",
       "    <tr>\n",
       "      <td>983</td>\n",
       "      <td>32822.0</td>\n",
       "      <td>-0.459635</td>\n",
       "      <td>0.752513</td>\n",
       "      <td>1.754365</td>\n",
       "      <td>0.571020</td>\n",
       "      <td>0.284946</td>\n",
       "      <td>-0.071830</td>\n",
       "      <td>0.366709</td>\n",
       "      <td>0.124772</td>\n",
       "      <td>-0.744549</td>\n",
       "      <td>...</td>\n",
       "      <td>-0.051137</td>\n",
       "      <td>-0.108876</td>\n",
       "      <td>0.133992</td>\n",
       "      <td>0.106714</td>\n",
       "      <td>-0.720905</td>\n",
       "      <td>0.213609</td>\n",
       "      <td>0.140315</td>\n",
       "      <td>0.140501</td>\n",
       "      <td>3.59</td>\n",
       "      <td>0</td>\n",
       "    </tr>\n",
       "  </tbody>\n",
       "</table>\n",
       "<p>984 rows × 31 columns</p>\n",
       "</div>"
      ],
      "text/plain": [
       "        Time        V1        V2        V3        V4        V5        V6  \\\n",
       "0      406.0 -2.312227  1.951992 -1.609851  3.997906 -0.522188 -1.426545   \n",
       "1      472.0 -3.043541 -3.157307  1.088463  2.288644  1.359805 -1.064823   \n",
       "2     4462.0 -2.303350  1.759247 -0.359745  2.330243 -0.821628 -0.075788   \n",
       "3     6986.0 -4.397974  1.358367 -2.592844  2.679787 -1.128131 -1.706536   \n",
       "4     7519.0  1.234235  3.019740 -4.304597  4.732795  3.624201 -1.357746   \n",
       "..       ...       ...       ...       ...       ...       ...       ...   \n",
       "979  39044.0 -2.381857 -3.469360  1.596375 -1.389869 -3.742196  0.734609   \n",
       "980  69294.0 -0.315911 -0.436308  1.547625 -1.348006 -0.593091  1.753575   \n",
       "981  50586.0 -1.584756  0.338998  1.908507 -1.540447 -0.354694  2.106107   \n",
       "982  69027.0 -0.371424  0.918016  0.947494 -0.401950  0.794136  0.347823   \n",
       "983  32822.0 -0.459635  0.752513  1.754365  0.571020  0.284946 -0.071830   \n",
       "\n",
       "           V7        V8        V9  ...       V21       V22       V23  \\\n",
       "0   -2.537387  1.391657 -2.770089  ...  0.517232 -0.035049 -0.465211   \n",
       "1    0.325574 -0.067794 -0.270953  ...  0.661696  0.435477  1.375966   \n",
       "2    0.562320 -0.399147 -0.238253  ... -0.294166 -0.932391  0.172726   \n",
       "3   -3.496197 -0.248778 -0.247768  ...  0.573574  0.176968 -0.436207   \n",
       "4    1.713445 -0.496358 -1.282858  ... -0.379068 -0.704181 -0.656805   \n",
       "..        ...       ...       ...  ...       ...       ...       ...   \n",
       "979  2.116088 -0.140548 -1.941889  ...  0.283461 -0.378704  2.043965   \n",
       "980 -0.913081  0.603919 -2.729027  ...  0.041413  0.584011 -0.001397   \n",
       "981 -1.032429  1.404723 -0.947873  ... -0.265977 -0.125057 -0.054417   \n",
       "982  0.554399  0.182587 -0.251831  ... -0.295070 -0.765719 -0.160695   \n",
       "983  0.366709  0.124772 -0.744549  ... -0.051137 -0.108876  0.133992   \n",
       "\n",
       "          V24       V25       V26       V27       V28  Amount  Class  \n",
       "0    0.320198  0.044519  0.177840  0.261145 -0.143276    0.00      1  \n",
       "1   -0.293803  0.279798 -0.145362 -0.252773  0.035764  529.00      1  \n",
       "2   -0.087330 -0.156114 -0.542628  0.039566 -0.153029  239.93      1  \n",
       "3   -0.053502  0.252405 -0.657488 -0.827136  0.849573   59.00      1  \n",
       "4   -1.632653  1.488901  0.566797 -0.010016  0.146793    1.00      1  \n",
       "..        ...       ...       ...       ...       ...     ...    ...  \n",
       "979  0.575638  0.633883 -0.375332 -0.235624  0.149424  911.01      0  \n",
       "980 -1.057448 -0.610619  0.128048  0.096686  0.079754   25.00      0  \n",
       "981 -1.391604 -0.088758  0.498324  0.343852  0.089431    8.00      0  \n",
       "982 -1.356279 -0.090680  0.188847  0.277541  0.103052    1.29      0  \n",
       "983  0.106714 -0.720905  0.213609  0.140315  0.140501    3.59      0  \n",
       "\n",
       "[984 rows x 31 columns]"
      ]
     },
     "execution_count": 11,
     "metadata": {},
     "output_type": "execute_result"
    }
   ],
   "source": [
    "data = fraud.append(non_fraud, ignore_index=True)\n",
    "data"
   ]
  },
  {
   "cell_type": "code",
   "execution_count": 12,
   "metadata": {},
   "outputs": [
    {
     "data": {
      "text/plain": [
       "1    492\n",
       "0    492\n",
       "Name: Class, dtype: int64"
      ]
     },
     "execution_count": 12,
     "metadata": {},
     "output_type": "execute_result"
    }
   ],
   "source": [
    "data['Class'].value_counts()"
   ]
  },
  {
   "cell_type": "code",
   "execution_count": 13,
   "metadata": {},
   "outputs": [],
   "source": [
    "X = data.drop('Class', axis = 1)\n",
    "y = data['Class']"
   ]
  },
  {
   "cell_type": "code",
   "execution_count": 14,
   "metadata": {},
   "outputs": [],
   "source": [
    "X_train, X_test, y_train, y_test = train_test_split(X, y, test_size = 0.2, random_state = 0, stratify = y)"
   ]
  },
  {
   "cell_type": "code",
   "execution_count": 15,
   "metadata": {},
   "outputs": [
    {
     "data": {
      "text/plain": [
       "((787, 30), (197, 30))"
      ]
     },
     "execution_count": 15,
     "metadata": {},
     "output_type": "execute_result"
    }
   ],
   "source": [
    "X_train.shape, X_test.shape"
   ]
  },
  {
   "cell_type": "code",
   "execution_count": 16,
   "metadata": {},
   "outputs": [],
   "source": [
    "scaler = StandardScaler()\n",
    "X_train = scaler.fit_transform(X_train)\n",
    "X_test = scaler.transform(X_test)"
   ]
  },
  {
   "cell_type": "code",
   "execution_count": 17,
   "metadata": {},
   "outputs": [],
   "source": [
    "y_train = y_train.to_numpy()\n",
    "y_test = y_test.to_numpy()"
   ]
  },
  {
   "cell_type": "code",
   "execution_count": 18,
   "metadata": {},
   "outputs": [
    {
     "data": {
      "text/plain": [
       "(787, 30)"
      ]
     },
     "execution_count": 18,
     "metadata": {},
     "output_type": "execute_result"
    }
   ],
   "source": [
    "X_train.shape"
   ]
  },
  {
   "cell_type": "code",
   "execution_count": 19,
   "metadata": {},
   "outputs": [],
   "source": [
    "X_train = X_train.reshape(X_train.shape[0], X_train.shape[1], 1)\n",
    "X_test = X_test.reshape(X_test.shape[0], X_test.shape[1], 1)"
   ]
  },
  {
   "cell_type": "code",
   "execution_count": 20,
   "metadata": {},
   "outputs": [
    {
     "data": {
      "text/plain": [
       "((787, 30, 1), (197, 30, 1))"
      ]
     },
     "execution_count": 20,
     "metadata": {},
     "output_type": "execute_result"
    }
   ],
   "source": [
    "X_train.shape, X_test.shape"
   ]
  },
  {
   "cell_type": "markdown",
   "metadata": {},
   "source": [
    "### Build CNN "
   ]
  },
  {
   "cell_type": "code",
   "execution_count": 21,
   "metadata": {},
   "outputs": [],
   "source": [
    "epochs = 20\n",
    "model = Sequential()\n",
    "model.add(Conv1D(32, 2, activation='relu', input_shape = X_train[0].shape))\n",
    "model.add(BatchNormalization())\n",
    "model.add(Dropout(0.2))\n",
    "\n",
    "model.add(Conv1D(64, 2, activation='relu'))\n",
    "model.add(BatchNormalization())\n",
    "model.add(Dropout(0.5))\n",
    "\n",
    "model.add(Flatten())\n",
    "model.add(Dense(64, activation='relu'))\n",
    "model.add(Dropout(0.5))\n",
    "\n",
    "model.add(Dense(1, activation='sigmoid'))\n"
   ]
  },
  {
   "cell_type": "code",
   "execution_count": 22,
   "metadata": {},
   "outputs": [
    {
     "name": "stdout",
     "output_type": "stream",
     "text": [
      "Model: \"sequential\"\n",
      "_________________________________________________________________\n",
      "Layer (type)                 Output Shape              Param #   \n",
      "=================================================================\n",
      "conv1d (Conv1D)              (None, 29, 32)            96        \n",
      "_________________________________________________________________\n",
      "batch_normalization (BatchNo (None, 29, 32)            128       \n",
      "_________________________________________________________________\n",
      "dropout (Dropout)            (None, 29, 32)            0         \n",
      "_________________________________________________________________\n",
      "conv1d_1 (Conv1D)            (None, 28, 64)            4160      \n",
      "_________________________________________________________________\n",
      "batch_normalization_1 (Batch (None, 28, 64)            256       \n",
      "_________________________________________________________________\n",
      "dropout_1 (Dropout)          (None, 28, 64)            0         \n",
      "_________________________________________________________________\n",
      "flatten (Flatten)            (None, 1792)              0         \n",
      "_________________________________________________________________\n",
      "dense (Dense)                (None, 64)                114752    \n",
      "_________________________________________________________________\n",
      "dropout_2 (Dropout)          (None, 64)                0         \n",
      "_________________________________________________________________\n",
      "dense_1 (Dense)              (None, 1)                 65        \n",
      "=================================================================\n",
      "Total params: 119,457\n",
      "Trainable params: 119,265\n",
      "Non-trainable params: 192\n",
      "_________________________________________________________________\n"
     ]
    }
   ],
   "source": [
    "model.summary()"
   ]
  },
  {
   "cell_type": "code",
   "execution_count": 23,
   "metadata": {},
   "outputs": [],
   "source": [
    "model.compile(optimizer=Adam(lr=0.0001), loss = 'binary_crossentropy', metrics=['accuracy'])"
   ]
  },
  {
   "cell_type": "code",
   "execution_count": 24,
   "metadata": {},
   "outputs": [
    {
     "name": "stdout",
     "output_type": "stream",
     "text": [
      "Train on 787 samples, validate on 197 samples\n",
      "Epoch 1/20\n",
      "WARNING:tensorflow:From E:\\conda\\lib\\site-packages\\tensorflow_core\\python\\ops\\nn_impl.py:183: where (from tensorflow.python.ops.array_ops) is deprecated and will be removed in a future version.\n",
      "Instructions for updating:\n",
      "Use tf.where in 2.0, which has the same broadcast rule as np.where\n",
      "787/787 [==============================] - 2s 3ms/sample - loss: 0.8175 - accuracy: 0.6391 - val_loss: 0.6179 - val_accuracy: 0.8325\n",
      "Epoch 2/20\n",
      "787/787 [==============================] - 0s 334us/sample - loss: 0.4851 - accuracy: 0.7992 - val_loss: 0.5786 - val_accuracy: 0.7766\n",
      "Epoch 3/20\n",
      "787/787 [==============================] - 0s 320us/sample - loss: 0.3875 - accuracy: 0.8551 - val_loss: 0.5442 - val_accuracy: 0.7919\n",
      "Epoch 4/20\n",
      "787/787 [==============================] - 0s 344us/sample - loss: 0.3929 - accuracy: 0.8590 - val_loss: 0.5054 - val_accuracy: 0.8223\n",
      "Epoch 5/20\n",
      "787/787 [==============================] - 0s 339us/sample - loss: 0.3148 - accuracy: 0.8844 - val_loss: 0.4680 - val_accuracy: 0.8579\n",
      "Epoch 6/20\n",
      "787/787 [==============================] - 0s 324us/sample - loss: 0.3233 - accuracy: 0.8818 - val_loss: 0.4292 - val_accuracy: 0.8832\n",
      "Epoch 7/20\n",
      "787/787 [==============================] - 0s 321us/sample - loss: 0.2971 - accuracy: 0.8920 - val_loss: 0.3950 - val_accuracy: 0.9036\n",
      "Epoch 8/20\n",
      "787/787 [==============================] - 0s 326us/sample - loss: 0.3014 - accuracy: 0.8856 - val_loss: 0.3602 - val_accuracy: 0.9036\n",
      "Epoch 9/20\n",
      "787/787 [==============================] - 0s 318us/sample - loss: 0.3016 - accuracy: 0.9009 - val_loss: 0.3329 - val_accuracy: 0.9086\n",
      "Epoch 10/20\n",
      "787/787 [==============================] - 0s 338us/sample - loss: 0.2603 - accuracy: 0.9009 - val_loss: 0.3089 - val_accuracy: 0.9086\n",
      "Epoch 11/20\n",
      "787/787 [==============================] - 0s 320us/sample - loss: 0.2711 - accuracy: 0.9034 - val_loss: 0.2854 - val_accuracy: 0.9086\n",
      "Epoch 12/20\n",
      "787/787 [==============================] - 0s 331us/sample - loss: 0.2439 - accuracy: 0.9149 - val_loss: 0.2654 - val_accuracy: 0.9086\n",
      "Epoch 13/20\n",
      "787/787 [==============================] - 0s 322us/sample - loss: 0.2459 - accuracy: 0.9199 - val_loss: 0.2506 - val_accuracy: 0.9137\n",
      "Epoch 14/20\n",
      "787/787 [==============================] - 0s 322us/sample - loss: 0.2165 - accuracy: 0.9174 - val_loss: 0.2345 - val_accuracy: 0.9086\n",
      "Epoch 15/20\n",
      "787/787 [==============================] - 0s 336us/sample - loss: 0.2366 - accuracy: 0.9161 - val_loss: 0.2243 - val_accuracy: 0.9086\n",
      "Epoch 16/20\n",
      "787/787 [==============================] - 0s 332us/sample - loss: 0.2085 - accuracy: 0.9238 - val_loss: 0.2166 - val_accuracy: 0.9086\n",
      "Epoch 17/20\n",
      "787/787 [==============================] - 0s 325us/sample - loss: 0.2028 - accuracy: 0.9199 - val_loss: 0.2107 - val_accuracy: 0.9086\n",
      "Epoch 18/20\n",
      "787/787 [==============================] - 0s 320us/sample - loss: 0.2195 - accuracy: 0.9187 - val_loss: 0.2051 - val_accuracy: 0.9086\n",
      "Epoch 19/20\n",
      "787/787 [==============================] - 0s 331us/sample - loss: 0.1864 - accuracy: 0.9199 - val_loss: 0.2006 - val_accuracy: 0.9086\n",
      "Epoch 20/20\n",
      "787/787 [==============================] - 0s 332us/sample - loss: 0.1939 - accuracy: 0.9365 - val_loss: 0.1996 - val_accuracy: 0.9086\n"
     ]
    }
   ],
   "source": [
    "history = model.fit(X_train, y_train, epochs=epochs, validation_data=(X_test, y_test), verbose=1)"
   ]
  },
  {
   "cell_type": "code",
   "execution_count": 25,
   "metadata": {},
   "outputs": [],
   "source": [
    "def plot_learningCurve(history, epoch):\n",
    "  # Plot training & validation accuracy values\n",
    "  epoch_range = range(1, epoch+1)\n",
    "  plt.plot(epoch_range, history.history['accuracy'])\n",
    "  plt.plot(epoch_range, history.history['val_accuracy'])\n",
    "  plt.title('Model accuracy')\n",
    "  plt.ylabel('Accuracy')\n",
    "  plt.xlabel('Epoch')\n",
    "  plt.legend(['Train', 'Val'], loc='upper left')\n",
    "  plt.show()\n",
    "\n",
    "  # Plot training & validation loss values\n",
    "  plt.plot(epoch_range, history.history['loss'])\n",
    "  plt.plot(epoch_range, history.history['val_loss'])\n",
    "  plt.title('Model loss')\n",
    "  plt.ylabel('Loss')\n",
    "  plt.xlabel('Epoch')\n",
    "  plt.legend(['Train', 'Val'], loc='upper left')\n",
    "  plt.show()"
   ]
  },
  {
   "cell_type": "code",
   "execution_count": 26,
   "metadata": {},
   "outputs": [
    {
     "data": {
      "image/png": "[encoded data removed]",
      "text/plain": [
       "<Figure size 432x288 with 1 Axes>"
      ]
     },
     "metadata": {
      "needs_background": "light"
     },
     "output_type": "display_data"
    },
    {
     "data": {
      "image/png": "[encoded data removed]",
      "text/plain": [
       "<Figure size 432x288 with 1 Axes>"
      ]
     },
     "metadata": {
      "needs_background": "light"
     },
     "output_type": "display_data"
    }
   ],
   "source": [
    "plot_learningCurve(history, epochs)"
   ]
  },
  {
   "cell_type": "code",
   "execution_count": null,
   "metadata": {},
   "outputs": [],
   "source": []
  },
  {
   "cell_type": "markdown",
   "metadata": {},
   "source": [
    "### Adding MaxPool "
   ]
  },
  {
   "cell_type": "code",
   "execution_count": 27,
   "metadata": {},
   "outputs": [
    {
     "name": "stdout",
     "output_type": "stream",
     "text": [
      "Train on 787 samples, validate on 197 samples\n",
      "Epoch 1/50\n",
      "787/787 [==============================] - 2s 3ms/sample - loss: 1.3454 - accuracy: 0.4689 - val_loss: 0.6914 - val_accuracy: 0.5025\n",
      "Epoch 2/50\n",
      "787/787 [==============================] - 0s 279us/sample - loss: 0.9740 - accuracy: 0.5820 - val_loss: 0.6620 - val_accuracy: 0.6345\n",
      "Epoch 3/50\n",
      "787/787 [==============================] - 0s 276us/sample - loss: 0.8095 - accuracy: 0.6442 - val_loss: 0.6342 - val_accuracy: 0.6497\n",
      "Epoch 4/50\n",
      "787/787 [==============================] - 0s 280us/sample - loss: 0.7917 - accuracy: 0.6633 - val_loss: 0.6082 - val_accuracy: 0.6599\n",
      "Epoch 5/50\n",
      "787/787 [==============================] - 0s 274us/sample - loss: 0.6586 - accuracy: 0.7243 - val_loss: 0.5825 - val_accuracy: 0.6802\n",
      "Epoch 6/50\n",
      "787/787 [==============================] - 0s 278us/sample - loss: 0.5259 - accuracy: 0.7598 - val_loss: 0.5548 - val_accuracy: 0.6904\n",
      "Epoch 7/50\n",
      "787/787 [==============================] - 0s 274us/sample - loss: 0.5427 - accuracy: 0.7700 - val_loss: 0.5243 - val_accuracy: 0.7360\n",
      "Epoch 8/50\n",
      "787/787 [==============================] - 0s 280us/sample - loss: 0.5092 - accuracy: 0.7827 - val_loss: 0.4902 - val_accuracy: 0.7411\n",
      "Epoch 9/50\n",
      "787/787 [==============================] - 0s 270us/sample - loss: 0.5152 - accuracy: 0.7840 - val_loss: 0.4552 - val_accuracy: 0.7716\n",
      "Epoch 10/50\n",
      "787/787 [==============================] - 0s 270us/sample - loss: 0.4550 - accuracy: 0.8259 - val_loss: 0.4224 - val_accuracy: 0.8071\n",
      "Epoch 11/50\n",
      "787/787 [==============================] - 0s 275us/sample - loss: 0.3858 - accuracy: 0.8412 - val_loss: 0.3914 - val_accuracy: 0.8325\n",
      "Epoch 12/50\n",
      "787/787 [==============================] - 0s 284us/sample - loss: 0.3754 - accuracy: 0.8437 - val_loss: 0.3636 - val_accuracy: 0.8579\n",
      "Epoch 13/50\n",
      "787/787 [==============================] - 0s 284us/sample - loss: 0.4121 - accuracy: 0.8463 - val_loss: 0.3386 - val_accuracy: 0.8680\n",
      "Epoch 14/50\n",
      "787/787 [==============================] - 0s 292us/sample - loss: 0.3884 - accuracy: 0.8551 - val_loss: 0.3172 - val_accuracy: 0.8832\n",
      "Epoch 15/50\n",
      "787/787 [==============================] - 0s 302us/sample - loss: 0.3728 - accuracy: 0.8539 - val_loss: 0.3007 - val_accuracy: 0.8832\n",
      "Epoch 16/50\n",
      "787/787 [==============================] - 0s 312us/sample - loss: 0.3577 - accuracy: 0.8704 - val_loss: 0.2875 - val_accuracy: 0.8832\n",
      "Epoch 17/50\n",
      "787/787 [==============================] - 0s 294us/sample - loss: 0.3740 - accuracy: 0.8590 - val_loss: 0.2765 - val_accuracy: 0.8832\n",
      "Epoch 18/50\n",
      "787/787 [==============================] - 0s 305us/sample - loss: 0.3372 - accuracy: 0.8640 - val_loss: 0.2685 - val_accuracy: 0.8832\n",
      "Epoch 19/50\n",
      "787/787 [==============================] - 0s 295us/sample - loss: 0.3691 - accuracy: 0.8640 - val_loss: 0.2634 - val_accuracy: 0.8883\n",
      "Epoch 20/50\n",
      "787/787 [==============================] - 0s 296us/sample - loss: 0.3385 - accuracy: 0.8729 - val_loss: 0.2621 - val_accuracy: 0.8985\n",
      "Epoch 21/50\n",
      "787/787 [==============================] - 0s 290us/sample - loss: 0.3201 - accuracy: 0.8945 - val_loss: 0.2619 - val_accuracy: 0.8985\n",
      "Epoch 22/50\n",
      "787/787 [==============================] - 0s 277us/sample - loss: 0.3015 - accuracy: 0.8793 - val_loss: 0.2626 - val_accuracy: 0.8985\n",
      "Epoch 23/50\n",
      "787/787 [==============================] - 0s 278us/sample - loss: 0.3101 - accuracy: 0.8755 - val_loss: 0.2636 - val_accuracy: 0.8985\n",
      "Epoch 24/50\n",
      "787/787 [==============================] - 0s 309us/sample - loss: 0.3341 - accuracy: 0.8869 - val_loss: 0.2627 - val_accuracy: 0.8985\n",
      "Epoch 25/50\n",
      "787/787 [==============================] - 0s 296us/sample - loss: 0.3359 - accuracy: 0.8806 - val_loss: 0.2621 - val_accuracy: 0.9036\n",
      "Epoch 26/50\n",
      "787/787 [==============================] - 0s 282us/sample - loss: 0.3168 - accuracy: 0.8831 - val_loss: 0.2600 - val_accuracy: 0.9137\n",
      "Epoch 27/50\n",
      "787/787 [==============================] - 0s 282us/sample - loss: 0.2893 - accuracy: 0.8983 - val_loss: 0.2588 - val_accuracy: 0.9137\n",
      "Epoch 28/50\n",
      "787/787 [==============================] - 0s 278us/sample - loss: 0.3140 - accuracy: 0.8869 - val_loss: 0.2558 - val_accuracy: 0.9137\n",
      "Epoch 29/50\n",
      "787/787 [==============================] - 0s 284us/sample - loss: 0.2942 - accuracy: 0.9060 - val_loss: 0.2568 - val_accuracy: 0.9137\n",
      "Epoch 30/50\n",
      "787/787 [==============================] - 0s 283us/sample - loss: 0.2716 - accuracy: 0.8971 - val_loss: 0.2555 - val_accuracy: 0.9137\n",
      "Epoch 31/50\n",
      "787/787 [==============================] - 0s 292us/sample - loss: 0.2788 - accuracy: 0.8996 - val_loss: 0.2547 - val_accuracy: 0.9137\n",
      "Epoch 32/50\n",
      "787/787 [==============================] - 0s 287us/sample - loss: 0.2653 - accuracy: 0.9034 - val_loss: 0.2550 - val_accuracy: 0.9137\n",
      "Epoch 33/50\n",
      "787/787 [==============================] - 0s 276us/sample - loss: 0.2570 - accuracy: 0.9123 - val_loss: 0.2552 - val_accuracy: 0.9137\n",
      "Epoch 34/50\n",
      "787/787 [==============================] - 0s 280us/sample - loss: 0.2503 - accuracy: 0.9060 - val_loss: 0.2543 - val_accuracy: 0.9137\n",
      "Epoch 35/50\n",
      "787/787 [==============================] - 0s 289us/sample - loss: 0.2757 - accuracy: 0.9022 - val_loss: 0.2513 - val_accuracy: 0.9137\n",
      "Epoch 36/50\n",
      "787/787 [==============================] - 0s 286us/sample - loss: 0.2641 - accuracy: 0.9123 - val_loss: 0.2506 - val_accuracy: 0.9137\n",
      "Epoch 37/50\n",
      "787/787 [==============================] - 0s 270us/sample - loss: 0.2555 - accuracy: 0.9149 - val_loss: 0.2523 - val_accuracy: 0.9086\n",
      "Epoch 38/50\n",
      "787/787 [==============================] - 0s 273us/sample - loss: 0.2715 - accuracy: 0.8945 - val_loss: 0.2517 - val_accuracy: 0.9086\n",
      "Epoch 39/50\n",
      "787/787 [==============================] - 0s 276us/sample - loss: 0.2661 - accuracy: 0.9060 - val_loss: 0.2506 - val_accuracy: 0.9086\n",
      "Epoch 40/50\n",
      "787/787 [==============================] - 0s 274us/sample - loss: 0.2672 - accuracy: 0.8907 - val_loss: 0.2534 - val_accuracy: 0.9086\n",
      "Epoch 41/50\n",
      "787/787 [==============================] - 0s 271us/sample - loss: 0.2346 - accuracy: 0.9174 - val_loss: 0.2541 - val_accuracy: 0.9086\n",
      "Epoch 42/50\n",
      "787/787 [==============================] - 0s 277us/sample - loss: 0.2220 - accuracy: 0.9149 - val_loss: 0.2553 - val_accuracy: 0.9086\n",
      "Epoch 43/50\n",
      "787/787 [==============================] - 0s 280us/sample - loss: 0.2379 - accuracy: 0.9111 - val_loss: 0.2549 - val_accuracy: 0.9086\n",
      "Epoch 44/50\n",
      "787/787 [==============================] - 0s 277us/sample - loss: 0.2270 - accuracy: 0.9174 - val_loss: 0.2548 - val_accuracy: 0.9086\n",
      "Epoch 45/50\n",
      "787/787 [==============================] - 0s 275us/sample - loss: 0.2447 - accuracy: 0.9111 - val_loss: 0.2538 - val_accuracy: 0.9086\n",
      "Epoch 46/50\n",
      "787/787 [==============================] - 0s 275us/sample - loss: 0.2535 - accuracy: 0.9161 - val_loss: 0.2567 - val_accuracy: 0.9086\n",
      "Epoch 47/50\n",
      "787/787 [==============================] - 0s 274us/sample - loss: 0.2518 - accuracy: 0.9009 - val_loss: 0.2582 - val_accuracy: 0.9086\n",
      "Epoch 48/50\n",
      "787/787 [==============================] - 0s 282us/sample - loss: 0.2356 - accuracy: 0.9047 - val_loss: 0.2566 - val_accuracy: 0.9086\n",
      "Epoch 49/50\n",
      "787/787 [==============================] - 0s 289us/sample - loss: 0.2316 - accuracy: 0.9098 - val_loss: 0.2559 - val_accuracy: 0.9086\n",
      "Epoch 50/50\n",
      "787/787 [==============================] - 0s 276us/sample - loss: 0.2569 - accuracy: 0.9034 - val_loss: 0.2545 - val_accuracy: 0.9086\n"
     ]
    },
    {
     "data": {
      "image/png": "[encoded data removed]",
      "text/plain": [
       "<Figure size 432x288 with 1 Axes>"
      ]
     },
     "metadata": {
      "needs_background": "light"
     },
     "output_type": "display_data"
    },
    {
     "data": {
      "image/png": "[encoded data removed]",
      "text/plain": [
       "<Figure size 432x288 with 1 Axes>"
      ]
     },
     "metadata": {
      "needs_background": "light"
     },
     "output_type": "display_data"
    }
   ],
   "source": [
    "epochs = 50\n",
    "model = Sequential()\n",
    "model.add(Conv1D(32, 2, activation='relu', input_shape = X_train[0].shape))\n",
    "model.add(BatchNormalization())\n",
    "model.add(MaxPool1D(2))\n",
    "model.add(Dropout(0.2))\n",
    "\n",
    "model.add(Conv1D(64, 2, activation='relu'))\n",
    "model.add(BatchNormalization())\n",
    "model.add(MaxPool1D(2))\n",
    "model.add(Dropout(0.5))\n",
    "\n",
    "model.add(Flatten())\n",
    "model.add(Dense(64, activation='relu'))\n",
    "model.add(Dropout(0.5))\n",
    "\n",
    "model.add(Dense(1, activation='sigmoid'))\n",
    "\n",
    "model.compile(optimizer=Adam(lr=0.0001), loss = 'binary_crossentropy', metrics=['accuracy'])\n",
    "history = model.fit(X_train, y_train, epochs=epochs, validation_data=(X_test, y_test), verbose=1)\n",
    "plot_learningCurve(history, epochs)"
   ]
  },
  {
   "cell_type": "code",
   "execution_count": null,
   "metadata": {},
   "outputs": [],
   "source": []
  }
 ],
 "metadata": {
  "kernelspec": {
   "display_name": "Python 3",
   "language": "python",
   "name": "python3"
  },
  "language_info": {
   "codemirror_mode": {
    "name": "ipython",
    "version": 3
   },
   "file_extension": ".py",
   "mimetype": "text/x-python",
   "name": "python",
   "nbconvert_exporter": "python",
   "pygments_lexer": "ipython3",
   "version": "3.7.4"
  }
 },
 "nbformat": 4,
 "nbformat_minor": 2
}
